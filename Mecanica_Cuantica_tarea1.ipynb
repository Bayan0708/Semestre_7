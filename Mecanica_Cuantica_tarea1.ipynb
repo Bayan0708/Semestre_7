{
 "cells": [
  {
   "cell_type": "code",
   "execution_count": 3,
   "metadata": {},
   "outputs": [
    {
     "name": "stdout",
     "output_type": "stream",
     "text": [
      "Vector ortonormalizado 1:\n",
      "[ 0.57735027+0.j         -0.        -0.57735027j  0.        +0.j\n",
      "  0.57735027+0.j        ]\n",
      "\n",
      "Vector ortonormalizado 2:\n",
      "[ 0.57735027+0.j  0.        +0.j  0.57735027+0.j -0.57735027+0.j]\n",
      "\n",
      "Vector ortonormalizado 3:\n",
      "[-0.18257419-0.18257419j  0.54772256+0.18257419j  0.54772256-0.18257419j\n",
      "  0.36514837-0.36514837j]\n",
      "\n",
      "Vector ortonormalizado 4:\n",
      "[ 0.48989795-0.16329932j  0.40824829+0.40824829j -0.57154761-0.08164966j\n",
      " -0.08164966-0.24494897j]\n",
      "\n"
     ]
    }
   ],
   "source": [
    "import numpy as np\n",
    "\n",
    "def gram_schmidt(vectors):\n",
    "    \"\"\"Aplica el proceso de Gram-Schmidt para ortogonalizar y normalizar una lista de vectores.\"\"\"\n",
    "    orthonormal_basis = []\n",
    "    \n",
    "    for v in vectors:\n",
    "        # Proceso de ortogonalización\n",
    "        for u in orthonormal_basis:\n",
    "            projection = np.dot(np.conjugate(u), v) / np.dot(np.conjugate(u), u)\n",
    "            v = v - projection * u\n",
    "        # Normalización\n",
    "        norm = np.linalg.norm(v)\n",
    "        if norm != 0:\n",
    "            v = v / norm\n",
    "        orthonormal_basis.append(v)\n",
    "    \n",
    "    return orthonormal_basis\n",
    "\n",
    "# Definir los vectores originales en base {e_1, e_2, e_3, e_4}\n",
    "v1 = np.array([1, -1j, 0, 1])  # |1⟩ = e_1 - i e_2 + e_4\n",
    "v2 = np.array([0, 1j, 1, -2])  # |2⟩ = i e_2 + e_3 - 2 e_4\n",
    "v3 = np.array([1, 1, 2, -1j])  # |3⟩ = e_1 + e_2 + 2 e_3 - i e_4\n",
    "v4 = np.array([1, 1, 0, 1])    # |4⟩ = e_1 + e_2 + e_4\n",
    "\n",
    "# Crear una lista con los vectores\n",
    "vectors = [v1, v2, v3, v4]\n",
    "\n",
    "# Aplicar Gram-Schmidt\n",
    "orthonormal_basis = gram_schmidt(vectors)\n",
    "\n",
    "# Mostrar los vectores ortonormalizados\n",
    "for i, v in enumerate(orthonormal_basis, 1):\n",
    "    print(f\"Vector ortonormalizado {i}:\")\n",
    "    print(v)\n",
    "    print()\n"
   ]
  }
 ],
 "metadata": {
  "kernelspec": {
   "display_name": "Python 3",
   "language": "python",
   "name": "python3"
  },
  "language_info": {
   "codemirror_mode": {
    "name": "ipython",
    "version": 3
   },
   "file_extension": ".py",
   "mimetype": "text/x-python",
   "name": "python",
   "nbconvert_exporter": "python",
   "pygments_lexer": "ipython3",
   "version": "3.9.7"
  }
 },
 "nbformat": 4,
 "nbformat_minor": 2
}
